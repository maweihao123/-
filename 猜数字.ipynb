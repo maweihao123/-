{
 "cells": [
  {
   "cell_type": "code",
   "execution_count": 2,
   "metadata": {},
   "outputs": [
    {
     "name": "stdout",
     "output_type": "stream",
     "text": [
      "下面是猜数字游戏环节！\n",
      "游戏开始！请输入一个1——100之间的整数！\n",
      "您还有5次机会\n",
      "请输入你要猜的数字：12\n",
      "您猜的数字小了，请重新猜测！\n",
      "您还有4次机会\n",
      "请输入你要猜的数字：12\n",
      "您猜的数字小了，请重新猜测！\n",
      "您还有3次机会\n",
      "请输入你要猜的数字：12\n",
      "您猜的数字小了，请重新猜测！\n",
      "您还有2次机会\n",
      "请输入你要猜的数字：12\n",
      "您猜的数字小了，请重新猜测！\n",
      "您还有1次机会\n",
      "请输入你要猜的数字：12\n",
      "您猜的数字小了，请重新猜测！\n",
      "您已经没有机会了，游戏失败！\n"
     ]
    }
   ],
   "source": [
    "import random \n",
    "print(\"下面是猜数字游戏环节！\")\n",
    "random_num = random.randint(1, 100)\n",
    "print(\"游戏开始！请输入一个1——100之间的整数！\")\n",
    "for i in range(5, 0, -1):\n",
    "    print(\"您还有%d次机会\" % i)\n",
    "    guess_num = int(input(\"请输入你要猜的数字：\"))\n",
    "    if guess_num > random_num:\n",
    "        print(\"您猜的数字大了，请重新猜测！\")\n",
    "    elif guess_num < random_num:\n",
    "        print(\"您猜的数字小了，请重新猜测！\")\n",
    "    elif guess_num == random_num:\n",
    "        print(\"恭喜您答对了，正确的数字为%d！\" % random_num)\n",
    "        break\n",
    "else:\n",
    "        print(\"您已经没有机会了，游戏失败！\")\n"
   ]
  },
  {
   "cell_type": "code",
   "execution_count": null,
   "metadata": {},
   "outputs": [],
   "source": []
  }
 ],
 "metadata": {
  "kernelspec": {
   "display_name": "Python 3",
   "language": "python",
   "name": "python3"
  },
  "language_info": {
   "codemirror_mode": {
    "name": "ipython",
    "version": 3
   },
   "file_extension": ".py",
   "mimetype": "text/x-python",
   "name": "python",
   "nbconvert_exporter": "python",
   "pygments_lexer": "ipython3",
   "version": "3.6.4"
  }
 },
 "nbformat": 4,
 "nbformat_minor": 2
}
